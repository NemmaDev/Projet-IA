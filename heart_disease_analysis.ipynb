{
 "cells": [
  {
   "cell_type": "code",
   "execution_count": 5,
   "id": "2ddc5b0f-6006-452b-aa81-66f9eb10dc62",
   "metadata": {},
   "outputs": [
    {
     "name": "stdout",
     "output_type": "stream",
     "text": [
      "                     Accuracy   AUC-ROC  Precision   Recall  F1-Score\n",
      "Logistic Regression  0.885246  0.920259   0.878788  0.90625  0.892308\n",
      "KNN                  0.918033  0.955280   0.935484  0.90625  0.920635\n",
      "SVM                  0.901639  0.938578   0.933333  0.87500  0.903226\n",
      "Decision Tree        0.737705  0.738685   0.766667  0.71875  0.741935\n",
      "Random Forest        0.901639  0.944504   0.933333  0.87500  0.903226\n",
      "AdaBoost             0.901639  0.939116   0.933333  0.87500  0.903226\n"
     ]
    }
   ],
   "source": [
    "# Importation des bibliothèques nécessaires\n",
    "import pandas as pd\n",
    "import numpy as np\n",
    "import matplotlib.pyplot as plt\n",
    "import seaborn as sns\n",
    "from sklearn.model_selection import train_test_split\n",
    "from sklearn.preprocessing import StandardScaler\n",
    "from sklearn.metrics import accuracy_score, classification_report, roc_auc_score\n",
    "\n",
    "# Algorithmes de classification\n",
    "from sklearn.linear_model import LogisticRegression\n",
    "from sklearn.neighbors import KNeighborsClassifier\n",
    "from sklearn.svm import SVC\n",
    "from sklearn.tree import DecisionTreeClassifier\n",
    "from sklearn.ensemble import RandomForestClassifier, AdaBoostClassifier\n",
    "\n",
    "# Charger le dataset\n",
    "url = \"https://archive.ics.uci.edu/ml/machine-learning-databases/heart-disease/processed.cleveland.data\"\n",
    "columns = [\"age\", \"sex\", \"cp\", \"trestbps\", \"chol\", \"fbs\", \"restecg\", \"thalach\",\n",
    "           \"exang\", \"oldpeak\", \"slope\", \"ca\", \"thal\", \"target\"]\n",
    "\n",
    "df = pd.read_csv(url, names=columns, na_values=\"?\")\n",
    "\n",
    "# Convertir target en binaire (1: maladie, 0: pas de maladie)\n",
    "df[\"target\"] = df[\"target\"].apply(lambda x: 1 if x > 0 else 0)\n",
    "\n",
    "# Remplacement des valeurs manquantes\n",
    "df.fillna(df.median(), inplace=True)\n",
    "\n",
    "# Séparation des variables\n",
    "X = df.drop(\"target\", axis=1)\n",
    "y = df[\"target\"]\n",
    "\n",
    "# Normalisation des données\n",
    "scaler = StandardScaler()\n",
    "X_scaled = scaler.fit_transform(X)\n",
    "\n",
    "# Split en train/test\n",
    "X_train, X_test, y_train, y_test = train_test_split(X_scaled, y, test_size=0.2, random_state=42)\n",
    "\n",
    "# Liste des modèles\n",
    "models = {\n",
    "    \"Logistic Regression\": LogisticRegression(),\n",
    "    \"KNN\": KNeighborsClassifier(n_neighbors=5),\n",
    "    \"SVM\": SVC(probability=True),\n",
    "    \"Decision Tree\": DecisionTreeClassifier(),\n",
    "    \"Random Forest\": RandomForestClassifier(n_estimators=100),\n",
    "    \"AdaBoost\": AdaBoostClassifier(algorithm=\"SAMME\")\n",
    "}\n",
    "\n",
    "# Entraînement et évaluation\n",
    "results = {}\n",
    "for name, model in models.items():\n",
    "    model.fit(X_train, y_train)\n",
    "    y_pred = model.predict(X_test)\n",
    "    y_prob = model.predict_proba(X_test)[:, 1]  # Pour AUC-ROC\n",
    "\n",
    "    results[name] = {\n",
    "        \"Accuracy\": accuracy_score(y_test, y_pred),\n",
    "        \"AUC-ROC\": roc_auc_score(y_test, y_prob),\n",
    "        \"Precision\": classification_report(y_test, y_pred, output_dict=True)[\"1\"][\"precision\"],\n",
    "        \"Recall\": classification_report(y_test, y_pred, output_dict=True)[\"1\"][\"recall\"],\n",
    "        \"F1-Score\": classification_report(y_test, y_pred, output_dict=True)[\"1\"][\"f1-score\"]\n",
    "    }\n",
    "\n",
    "# Affichage des résultats sous forme de tableau\n",
    "df_results = pd.DataFrame(results).T\n",
    "print(df_results)\n"
   ]
  },
  {
   "cell_type": "code",
   "execution_count": 7,
   "id": "2b28daf0-4c59-400a-af8d-f2b19b53e51c",
   "metadata": {},
   "outputs": [
    {
     "name": "stdout",
     "output_type": "stream",
     "text": [
      "✅ Modèle sauvegardé sous best_model.pkl\n",
      "✅ Scaler sauvegardé sous scaler.pkl\n"
     ]
    }
   ],
   "source": [
    "import joblib\n",
    "\n",
    "# Supposons que Random Forest est le meilleur modèle après comparaison\n",
    "best_model = RandomForestClassifier(n_estimators=100)\n",
    "best_model.fit(X_train, y_train)\n",
    "\n",
    "# Sauvegarde du modèle entraîné\n",
    "joblib.dump(best_model, \"best_model.pkl\")\n",
    "print(\"✅ Modèle sauvegardé sous best_model.pkl\")\n",
    "\n",
    "# Sauvegarde du StandardScaler utilisé pour normaliser les données\n",
    "scaler = StandardScaler()\n",
    "scaler.fit(X_train)\n",
    "\n",
    "joblib.dump(scaler, \"scaler.pkl\")\n",
    "print(\"✅ Scaler sauvegardé sous scaler.pkl\")\n"
   ]
  },
  {
   "cell_type": "code",
   "execution_count": 9,
   "id": "aa30a86a-1155-4b98-8adf-e6debb744288",
   "metadata": {},
   "outputs": [
    {
     "name": "stdout",
     "output_type": "stream",
     "text": [
      "✅ Le modèle et le scaler ont été chargés avec succès !\n"
     ]
    }
   ],
   "source": [
    "# Tester si le modèle et le scaler sont bien enregistrés\n",
    "model = joblib.load(\"best_model.pkl\")\n",
    "scaler = joblib.load(\"scaler.pkl\")\n",
    "\n",
    "print(\"✅ Le modèle et le scaler ont été chargés avec succès !\")\n"
   ]
  },
  {
   "cell_type": "code",
   "execution_count": null,
   "id": "84e714d3-29eb-4269-81ed-b66b9ab8eab7",
   "metadata": {},
   "outputs": [],
   "source": []
  }
 ],
 "metadata": {
  "kernelspec": {
   "display_name": "Python 3 (ipykernel)",
   "language": "python",
   "name": "python3"
  },
  "language_info": {
   "codemirror_mode": {
    "name": "ipython",
    "version": 3
   },
   "file_extension": ".py",
   "mimetype": "text/x-python",
   "name": "python",
   "nbconvert_exporter": "python",
   "pygments_lexer": "ipython3",
   "version": "3.12.4"
  }
 },
 "nbformat": 4,
 "nbformat_minor": 5
}
